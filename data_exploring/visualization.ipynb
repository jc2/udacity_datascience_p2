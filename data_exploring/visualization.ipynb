{
 "metadata": {
  "language_info": {
   "codemirror_mode": {
    "name": "ipython",
    "version": 3
   },
   "file_extension": ".py",
   "mimetype": "text/x-python",
   "name": "python",
   "nbconvert_exporter": "python",
   "pygments_lexer": "ipython3",
   "version": "3.8.8"
  },
  "orig_nbformat": 2,
  "kernelspec": {
   "name": "python388jvsc74a57bd09a64ace1a2d1cf904c43a013ac310dfb1bbe90cc9b9ff6edb5710e5ebd2ae166",
   "display_name": "Python 3.8.8 64-bit ('venv-datascience-p2': conda)"
  }
 },
 "nbformat": 4,
 "nbformat_minor": 2,
 "cells": [
  {
   "cell_type": "code",
   "execution_count": 5,
   "metadata": {},
   "outputs": [],
   "source": [
    "import pandas as pd\n",
    "import plotly\n",
    "from sqlalchemy import create_engine"
   ]
  },
  {
   "cell_type": "code",
   "execution_count": 6,
   "metadata": {},
   "outputs": [],
   "source": [
    "engine = create_engine('sqlite:///../data/DisasterResponse.db')\n",
    "df = pd.read_sql_table('messages', engine)"
   ]
  },
  {
   "cell_type": "code",
   "execution_count": 11,
   "metadata": {},
   "outputs": [],
   "source": [
    "genre_counts = df.genre.value_counts()"
   ]
  },
  {
   "cell_type": "code",
   "execution_count": 14,
   "metadata": {},
   "outputs": [
    {
     "output_type": "execute_result",
     "data": {
      "text/plain": [
       "array([13018, 10615,  2356])"
      ]
     },
     "metadata": {},
     "execution_count": 14
    }
   ],
   "source": [
    "genre_counts.values"
   ]
  },
  {
   "cell_type": "code",
   "execution_count": 15,
   "metadata": {},
   "outputs": [
    {
     "output_type": "execute_result",
     "data": {
      "text/plain": [
       "Index(['news', 'direct', 'social'], dtype='object')"
      ]
     },
     "metadata": {},
     "execution_count": 15
    }
   ],
   "source": [
    "genre_counts.index"
   ]
  },
  {
   "cell_type": "code",
   "execution_count": 18,
   "metadata": {},
   "outputs": [
    {
     "output_type": "execute_result",
     "data": {
      "text/plain": [
       "related                   19874\n",
       "request                    4464\n",
       "offer                       117\n",
       "aid_related               10840\n",
       "medical_help               2080\n",
       "medical_products           1310\n",
       "search_and_rescue           724\n",
       "security                    471\n",
       "military                    859\n",
       "child_alone                   0\n",
       "water                      1669\n",
       "food                       2917\n",
       "shelter                    2308\n",
       "clothing                    404\n",
       "money                       603\n",
       "missing_people              298\n",
       "refugees                    874\n",
       "death                      1192\n",
       "other_aid                  3441\n",
       "infrastructure_related     1705\n",
       "transport                  1199\n",
       "buildings                  1331\n",
       "electricity                 532\n",
       "tools                       159\n",
       "hospitals                   283\n",
       "shops                       120\n",
       "aid_centers                 309\n",
       "other_infrastructure       1151\n",
       "weather_related            7286\n",
       "floods                     2149\n",
       "storm                      2440\n",
       "fire                        282\n",
       "earthquake                 2452\n",
       "cold                        528\n",
       "other_weather              1376\n",
       "direct_report              5063\n",
       "dtype: int64"
      ]
     },
     "metadata": {},
     "execution_count": 18
    }
   ],
   "source": [
    "df.iloc[:, 4:].sum()"
   ]
  },
  {
   "cell_type": "code",
   "execution_count": 19,
   "metadata": {},
   "outputs": [
    {
     "output_type": "execute_result",
     "data": {
      "text/plain": [
       "    id                                            message  \\\n",
       "0    2  Weather update - a cold front from Cuba that c...   \n",
       "1    7            Is the Hurricane over or is it not over   \n",
       "2    8                    Looking for someone but no name   \n",
       "3    9  UN reports Leogane 80-90 destroyed. Only Hospi...   \n",
       "4   12  says: west side of Haiti, rest of the country ...   \n",
       "5   14             Information about the National Palace-   \n",
       "6   15                     Storm at sacred heart of jesus   \n",
       "7   16  Please, we need tents and water. We are in Sil...   \n",
       "8   17    I would like to receive the messages, thank you   \n",
       "9   18  I am in Croix-des-Bouquets. We have health iss...   \n",
       "10  20  There's nothing to eat and water, we starving ...   \n",
       "11  21  I am in Petionville. I need more information r...   \n",
       "12  22  I am in Thomassin number 32, in the area named...   \n",
       "13  24  Let's do it together, need food in Delma 75, i...   \n",
       "14  25  More information on the 4636 number in order f...   \n",
       "15  26  A Comitee in Delmas 19, Rue ( street ) Janvier...   \n",
       "16  27  We need food and water in Klecin 12. We are dy...   \n",
       "17  28  are you going to call me or do you want me to ...   \n",
       "18  30     I don't understand how to use this thing 4636.   \n",
       "19  31  I would like to know if the earthquake is over...   \n",
       "\n",
       "                                             original   genre  related  \\\n",
       "0   Un front froid se retrouve sur Cuba ce matin. ...  direct        1   \n",
       "1                  Cyclone nan fini osinon li pa fini  direct        1   \n",
       "2   Patnm, di Maryani relem pou li banm nouvel li ...  direct        1   \n",
       "3   UN reports Leogane 80-90 destroyed. Only Hospi...  direct        1   \n",
       "4   facade ouest d Haiti et le reste du pays aujou...  direct        1   \n",
       "5                 Informtion au nivaux palais nationl  direct        0   \n",
       "6                         Cyclone Coeur sacr de jesus  direct        1   \n",
       "7   Tanpri nou bezwen tant avek dlo nou zon silo m...  direct        1   \n",
       "8               Mwen ta renmen jouin messag yo. Merci  direct        0   \n",
       "9   Nou kwadebouke, nou gen pwoblem sant m yo nan ...  direct        1   \n",
       "10            Bon repo pa gen anyen menm grangou swaf  direct        1   \n",
       "11             M nan pv mvle plis enfomasyon sou 4636  direct        0   \n",
       "12  Mwen thomassin 32 nan pyron mwen ta renmen jwe...  direct        1   \n",
       "13  Ann fel ansanm bezwen manje nan delma 75 nan r...  direct        1   \n",
       "14  gen plis enfomasyon sou 4636 la pom w sim ap k...  direct        1   \n",
       "15  Komite katye delma 19 rue janvier imp charite ...  direct        1   \n",
       "16  Nou bezwen mange avek dlo nan klcin 12 LA LAFI...  direct        1   \n",
       "17  Eske se rele nap relem oubyen se mwen kap rele...  direct        0   \n",
       "18  Mwen pa konprann koman pou m itilize bagay 463...  direct        0   \n",
       "19  Mwen ta remen connin si trenblem de terre afin...  direct        1   \n",
       "\n",
       "    request  offer  aid_related  medical_help  medical_products  ...  \\\n",
       "0         0      0            0             0                 0  ...   \n",
       "1         0      0            1             0                 0  ...   \n",
       "2         0      0            0             0                 0  ...   \n",
       "3         1      0            1             0                 1  ...   \n",
       "4         0      0            0             0                 0  ...   \n",
       "5         0      0            0             0                 0  ...   \n",
       "6         0      0            0             0                 0  ...   \n",
       "7         1      0            1             0                 0  ...   \n",
       "8         0      0            0             0                 0  ...   \n",
       "9         1      0            1             1                 1  ...   \n",
       "10        1      0            1             1                 1  ...   \n",
       "11        0      0            0             0                 0  ...   \n",
       "12        1      0            1             0                 0  ...   \n",
       "13        1      0            1             0                 0  ...   \n",
       "14        0      0            0             0                 0  ...   \n",
       "15        1      0            1             0                 1  ...   \n",
       "16        1      0            1             1                 0  ...   \n",
       "17        0      0            0             0                 0  ...   \n",
       "18        0      0            0             0                 0  ...   \n",
       "19        0      0            0             0                 0  ...   \n",
       "\n",
       "    aid_centers  other_infrastructure  weather_related  floods  storm  fire  \\\n",
       "0             0                     0                0       0      0     0   \n",
       "1             0                     0                1       0      1     0   \n",
       "2             0                     0                0       0      0     0   \n",
       "3             0                     0                0       0      0     0   \n",
       "4             0                     0                0       0      0     0   \n",
       "5             0                     0                0       0      0     0   \n",
       "6             0                     0                1       0      1     0   \n",
       "7             0                     0                0       0      0     0   \n",
       "8             0                     0                0       0      0     0   \n",
       "9             0                     0                0       0      0     0   \n",
       "10            0                     1                1       1      0     0   \n",
       "11            0                     0                0       0      0     0   \n",
       "12            0                     0                0       0      0     0   \n",
       "13            0                     0                0       0      0     0   \n",
       "14            0                     0                0       0      0     0   \n",
       "15            0                     0                0       0      0     0   \n",
       "16            0                     0                0       0      0     0   \n",
       "17            0                     0                0       0      0     0   \n",
       "18            0                     0                0       0      0     0   \n",
       "19            0                     0                1       0      0     0   \n",
       "\n",
       "    earthquake  cold  other_weather  direct_report  \n",
       "0            0     0              0              0  \n",
       "1            0     0              0              0  \n",
       "2            0     0              0              0  \n",
       "3            0     0              0              0  \n",
       "4            0     0              0              0  \n",
       "5            0     0              0              0  \n",
       "6            0     0              0              0  \n",
       "7            0     0              0              1  \n",
       "8            0     0              0              0  \n",
       "9            0     0              0              1  \n",
       "10           0     0              0              1  \n",
       "11           0     0              0              0  \n",
       "12           0     0              0              1  \n",
       "13           0     0              0              1  \n",
       "14           0     0              0              0  \n",
       "15           0     0              0              1  \n",
       "16           0     0              0              1  \n",
       "17           0     0              0              0  \n",
       "18           0     0              0              0  \n",
       "19           1     0              0              0  \n",
       "\n",
       "[20 rows x 40 columns]"
      ],
      "text/html": "<div>\n<style scoped>\n    .dataframe tbody tr th:only-of-type {\n        vertical-align: middle;\n    }\n\n    .dataframe tbody tr th {\n        vertical-align: top;\n    }\n\n    .dataframe thead th {\n        text-align: right;\n    }\n</style>\n<table border=\"1\" class=\"dataframe\">\n  <thead>\n    <tr style=\"text-align: right;\">\n      <th></th>\n      <th>id</th>\n      <th>message</th>\n      <th>original</th>\n      <th>genre</th>\n      <th>related</th>\n      <th>request</th>\n      <th>offer</th>\n      <th>aid_related</th>\n      <th>medical_help</th>\n      <th>medical_products</th>\n      <th>...</th>\n      <th>aid_centers</th>\n      <th>other_infrastructure</th>\n      <th>weather_related</th>\n      <th>floods</th>\n      <th>storm</th>\n      <th>fire</th>\n      <th>earthquake</th>\n      <th>cold</th>\n      <th>other_weather</th>\n      <th>direct_report</th>\n    </tr>\n  </thead>\n  <tbody>\n    <tr>\n      <th>0</th>\n      <td>2</td>\n      <td>Weather update - a cold front from Cuba that c...</td>\n      <td>Un front froid se retrouve sur Cuba ce matin. ...</td>\n      <td>direct</td>\n      <td>1</td>\n      <td>0</td>\n      <td>0</td>\n      <td>0</td>\n      <td>0</td>\n      <td>0</td>\n      <td>...</td>\n      <td>0</td>\n      <td>0</td>\n      <td>0</td>\n      <td>0</td>\n      <td>0</td>\n      <td>0</td>\n      <td>0</td>\n      <td>0</td>\n      <td>0</td>\n      <td>0</td>\n    </tr>\n    <tr>\n      <th>1</th>\n      <td>7</td>\n      <td>Is the Hurricane over or is it not over</td>\n      <td>Cyclone nan fini osinon li pa fini</td>\n      <td>direct</td>\n      <td>1</td>\n      <td>0</td>\n      <td>0</td>\n      <td>1</td>\n      <td>0</td>\n      <td>0</td>\n      <td>...</td>\n      <td>0</td>\n      <td>0</td>\n      <td>1</td>\n      <td>0</td>\n      <td>1</td>\n      <td>0</td>\n      <td>0</td>\n      <td>0</td>\n      <td>0</td>\n      <td>0</td>\n    </tr>\n    <tr>\n      <th>2</th>\n      <td>8</td>\n      <td>Looking for someone but no name</td>\n      <td>Patnm, di Maryani relem pou li banm nouvel li ...</td>\n      <td>direct</td>\n      <td>1</td>\n      <td>0</td>\n      <td>0</td>\n      <td>0</td>\n      <td>0</td>\n      <td>0</td>\n      <td>...</td>\n      <td>0</td>\n      <td>0</td>\n      <td>0</td>\n      <td>0</td>\n      <td>0</td>\n      <td>0</td>\n      <td>0</td>\n      <td>0</td>\n      <td>0</td>\n      <td>0</td>\n    </tr>\n    <tr>\n      <th>3</th>\n      <td>9</td>\n      <td>UN reports Leogane 80-90 destroyed. Only Hospi...</td>\n      <td>UN reports Leogane 80-90 destroyed. Only Hospi...</td>\n      <td>direct</td>\n      <td>1</td>\n      <td>1</td>\n      <td>0</td>\n      <td>1</td>\n      <td>0</td>\n      <td>1</td>\n      <td>...</td>\n      <td>0</td>\n      <td>0</td>\n      <td>0</td>\n      <td>0</td>\n      <td>0</td>\n      <td>0</td>\n      <td>0</td>\n      <td>0</td>\n      <td>0</td>\n      <td>0</td>\n    </tr>\n    <tr>\n      <th>4</th>\n      <td>12</td>\n      <td>says: west side of Haiti, rest of the country ...</td>\n      <td>facade ouest d Haiti et le reste du pays aujou...</td>\n      <td>direct</td>\n      <td>1</td>\n      <td>0</td>\n      <td>0</td>\n      <td>0</td>\n      <td>0</td>\n      <td>0</td>\n      <td>...</td>\n      <td>0</td>\n      <td>0</td>\n      <td>0</td>\n      <td>0</td>\n      <td>0</td>\n      <td>0</td>\n      <td>0</td>\n      <td>0</td>\n      <td>0</td>\n      <td>0</td>\n    </tr>\n    <tr>\n      <th>5</th>\n      <td>14</td>\n      <td>Information about the National Palace-</td>\n      <td>Informtion au nivaux palais nationl</td>\n      <td>direct</td>\n      <td>0</td>\n      <td>0</td>\n      <td>0</td>\n      <td>0</td>\n      <td>0</td>\n      <td>0</td>\n      <td>...</td>\n      <td>0</td>\n      <td>0</td>\n      <td>0</td>\n      <td>0</td>\n      <td>0</td>\n      <td>0</td>\n      <td>0</td>\n      <td>0</td>\n      <td>0</td>\n      <td>0</td>\n    </tr>\n    <tr>\n      <th>6</th>\n      <td>15</td>\n      <td>Storm at sacred heart of jesus</td>\n      <td>Cyclone Coeur sacr de jesus</td>\n      <td>direct</td>\n      <td>1</td>\n      <td>0</td>\n      <td>0</td>\n      <td>0</td>\n      <td>0</td>\n      <td>0</td>\n      <td>...</td>\n      <td>0</td>\n      <td>0</td>\n      <td>1</td>\n      <td>0</td>\n      <td>1</td>\n      <td>0</td>\n      <td>0</td>\n      <td>0</td>\n      <td>0</td>\n      <td>0</td>\n    </tr>\n    <tr>\n      <th>7</th>\n      <td>16</td>\n      <td>Please, we need tents and water. We are in Sil...</td>\n      <td>Tanpri nou bezwen tant avek dlo nou zon silo m...</td>\n      <td>direct</td>\n      <td>1</td>\n      <td>1</td>\n      <td>0</td>\n      <td>1</td>\n      <td>0</td>\n      <td>0</td>\n      <td>...</td>\n      <td>0</td>\n      <td>0</td>\n      <td>0</td>\n      <td>0</td>\n      <td>0</td>\n      <td>0</td>\n      <td>0</td>\n      <td>0</td>\n      <td>0</td>\n      <td>1</td>\n    </tr>\n    <tr>\n      <th>8</th>\n      <td>17</td>\n      <td>I would like to receive the messages, thank you</td>\n      <td>Mwen ta renmen jouin messag yo. Merci</td>\n      <td>direct</td>\n      <td>0</td>\n      <td>0</td>\n      <td>0</td>\n      <td>0</td>\n      <td>0</td>\n      <td>0</td>\n      <td>...</td>\n      <td>0</td>\n      <td>0</td>\n      <td>0</td>\n      <td>0</td>\n      <td>0</td>\n      <td>0</td>\n      <td>0</td>\n      <td>0</td>\n      <td>0</td>\n      <td>0</td>\n    </tr>\n    <tr>\n      <th>9</th>\n      <td>18</td>\n      <td>I am in Croix-des-Bouquets. We have health iss...</td>\n      <td>Nou kwadebouke, nou gen pwoblem sant m yo nan ...</td>\n      <td>direct</td>\n      <td>1</td>\n      <td>1</td>\n      <td>0</td>\n      <td>1</td>\n      <td>1</td>\n      <td>1</td>\n      <td>...</td>\n      <td>0</td>\n      <td>0</td>\n      <td>0</td>\n      <td>0</td>\n      <td>0</td>\n      <td>0</td>\n      <td>0</td>\n      <td>0</td>\n      <td>0</td>\n      <td>1</td>\n    </tr>\n    <tr>\n      <th>10</th>\n      <td>20</td>\n      <td>There's nothing to eat and water, we starving ...</td>\n      <td>Bon repo pa gen anyen menm grangou swaf</td>\n      <td>direct</td>\n      <td>1</td>\n      <td>1</td>\n      <td>0</td>\n      <td>1</td>\n      <td>1</td>\n      <td>1</td>\n      <td>...</td>\n      <td>0</td>\n      <td>1</td>\n      <td>1</td>\n      <td>1</td>\n      <td>0</td>\n      <td>0</td>\n      <td>0</td>\n      <td>0</td>\n      <td>0</td>\n      <td>1</td>\n    </tr>\n    <tr>\n      <th>11</th>\n      <td>21</td>\n      <td>I am in Petionville. I need more information r...</td>\n      <td>M nan pv mvle plis enfomasyon sou 4636</td>\n      <td>direct</td>\n      <td>0</td>\n      <td>0</td>\n      <td>0</td>\n      <td>0</td>\n      <td>0</td>\n      <td>0</td>\n      <td>...</td>\n      <td>0</td>\n      <td>0</td>\n      <td>0</td>\n      <td>0</td>\n      <td>0</td>\n      <td>0</td>\n      <td>0</td>\n      <td>0</td>\n      <td>0</td>\n      <td>0</td>\n    </tr>\n    <tr>\n      <th>12</th>\n      <td>22</td>\n      <td>I am in Thomassin number 32, in the area named...</td>\n      <td>Mwen thomassin 32 nan pyron mwen ta renmen jwe...</td>\n      <td>direct</td>\n      <td>1</td>\n      <td>1</td>\n      <td>0</td>\n      <td>1</td>\n      <td>0</td>\n      <td>0</td>\n      <td>...</td>\n      <td>0</td>\n      <td>0</td>\n      <td>0</td>\n      <td>0</td>\n      <td>0</td>\n      <td>0</td>\n      <td>0</td>\n      <td>0</td>\n      <td>0</td>\n      <td>1</td>\n    </tr>\n    <tr>\n      <th>13</th>\n      <td>24</td>\n      <td>Let's do it together, need food in Delma 75, i...</td>\n      <td>Ann fel ansanm bezwen manje nan delma 75 nan r...</td>\n      <td>direct</td>\n      <td>1</td>\n      <td>1</td>\n      <td>0</td>\n      <td>1</td>\n      <td>0</td>\n      <td>0</td>\n      <td>...</td>\n      <td>0</td>\n      <td>0</td>\n      <td>0</td>\n      <td>0</td>\n      <td>0</td>\n      <td>0</td>\n      <td>0</td>\n      <td>0</td>\n      <td>0</td>\n      <td>1</td>\n    </tr>\n    <tr>\n      <th>14</th>\n      <td>25</td>\n      <td>More information on the 4636 number in order f...</td>\n      <td>gen plis enfomasyon sou 4636 la pom w sim ap k...</td>\n      <td>direct</td>\n      <td>1</td>\n      <td>0</td>\n      <td>0</td>\n      <td>0</td>\n      <td>0</td>\n      <td>0</td>\n      <td>...</td>\n      <td>0</td>\n      <td>0</td>\n      <td>0</td>\n      <td>0</td>\n      <td>0</td>\n      <td>0</td>\n      <td>0</td>\n      <td>0</td>\n      <td>0</td>\n      <td>0</td>\n    </tr>\n    <tr>\n      <th>15</th>\n      <td>26</td>\n      <td>A Comitee in Delmas 19, Rue ( street ) Janvier...</td>\n      <td>Komite katye delma 19 rue janvier imp charite ...</td>\n      <td>direct</td>\n      <td>1</td>\n      <td>1</td>\n      <td>0</td>\n      <td>1</td>\n      <td>0</td>\n      <td>1</td>\n      <td>...</td>\n      <td>0</td>\n      <td>0</td>\n      <td>0</td>\n      <td>0</td>\n      <td>0</td>\n      <td>0</td>\n      <td>0</td>\n      <td>0</td>\n      <td>0</td>\n      <td>1</td>\n    </tr>\n    <tr>\n      <th>16</th>\n      <td>27</td>\n      <td>We need food and water in Klecin 12. We are dy...</td>\n      <td>Nou bezwen mange avek dlo nan klcin 12 LA LAFI...</td>\n      <td>direct</td>\n      <td>1</td>\n      <td>1</td>\n      <td>0</td>\n      <td>1</td>\n      <td>1</td>\n      <td>0</td>\n      <td>...</td>\n      <td>0</td>\n      <td>0</td>\n      <td>0</td>\n      <td>0</td>\n      <td>0</td>\n      <td>0</td>\n      <td>0</td>\n      <td>0</td>\n      <td>0</td>\n      <td>1</td>\n    </tr>\n    <tr>\n      <th>17</th>\n      <td>28</td>\n      <td>are you going to call me or do you want me to ...</td>\n      <td>Eske se rele nap relem oubyen se mwen kap rele...</td>\n      <td>direct</td>\n      <td>0</td>\n      <td>0</td>\n      <td>0</td>\n      <td>0</td>\n      <td>0</td>\n      <td>0</td>\n      <td>...</td>\n      <td>0</td>\n      <td>0</td>\n      <td>0</td>\n      <td>0</td>\n      <td>0</td>\n      <td>0</td>\n      <td>0</td>\n      <td>0</td>\n      <td>0</td>\n      <td>0</td>\n    </tr>\n    <tr>\n      <th>18</th>\n      <td>30</td>\n      <td>I don't understand how to use this thing 4636.</td>\n      <td>Mwen pa konprann koman pou m itilize bagay 463...</td>\n      <td>direct</td>\n      <td>0</td>\n      <td>0</td>\n      <td>0</td>\n      <td>0</td>\n      <td>0</td>\n      <td>0</td>\n      <td>...</td>\n      <td>0</td>\n      <td>0</td>\n      <td>0</td>\n      <td>0</td>\n      <td>0</td>\n      <td>0</td>\n      <td>0</td>\n      <td>0</td>\n      <td>0</td>\n      <td>0</td>\n    </tr>\n    <tr>\n      <th>19</th>\n      <td>31</td>\n      <td>I would like to know if the earthquake is over...</td>\n      <td>Mwen ta remen connin si trenblem de terre afin...</td>\n      <td>direct</td>\n      <td>1</td>\n      <td>0</td>\n      <td>0</td>\n      <td>0</td>\n      <td>0</td>\n      <td>0</td>\n      <td>...</td>\n      <td>0</td>\n      <td>0</td>\n      <td>1</td>\n      <td>0</td>\n      <td>0</td>\n      <td>0</td>\n      <td>1</td>\n      <td>0</td>\n      <td>0</td>\n      <td>0</td>\n    </tr>\n  </tbody>\n</table>\n<p>20 rows × 40 columns</p>\n</div>"
     },
     "metadata": {},
     "execution_count": 19
    }
   ],
   "source": [
    "df.head(20)"
   ]
  }
 ]
}